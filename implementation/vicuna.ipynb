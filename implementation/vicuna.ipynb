{
 "cells": [
  {
   "cell_type": "code",
   "execution_count": 4,
   "metadata": {
    "id": "e6pARGQ7Uawi",
    "tags": []
   },
   "outputs": [],
   "source": [
    "#pip install pypdf sentencepiece tiktoken openai chromadb sentence_transformers protobuf==3.20.* langchain"
   ]
  },
  {
   "attachments": {},
   "cell_type": "markdown",
   "metadata": {},
   "source": [
    "## 1.1 Import Libraries"
   ]
  },
  {
   "cell_type": "code",
   "execution_count": 5,
   "metadata": {
    "colab": {
     "base_uri": "https://localhost:8080/"
    },
    "id": "3eNyeVRDUawl",
    "outputId": "12cd2ee1-2053-4134-b2aa-d759779c110c",
    "tags": []
   },
   "outputs": [],
   "source": [
    "## Importing DS modules\n",
    "import pandas as pd\n",
    "\n",
    "# Importing various components from the langchain library\n",
    "from langchain.document_loaders import PyPDFDirectoryLoader  # For loading documents from a directory\n",
    "from langchain.document_loaders import PyPDFLoader  # For loading individual PDF documents\n",
    "from langchain.embeddings import OpenAIEmbeddings  # For creating embeddings using the OpenAI model\n",
    "from langchain.text_splitter import CharacterTextSplitter  # For splitting text into characters\n",
    "from langchain.text_splitter import RecursiveCharacterTextSplitter  # For recursively splitting text into characters\n",
    "from langchain.vectorstores import Chroma  # For storing and retrieving vectors\n",
    "from langchain.llms import OpenAI  # For using the OpenAI language model\n",
    "from langchain.chains import ConversationalRetrievalChain  # For creating a retrieval chain for conversation\n",
    "from langchain.memory import ConversationBufferMemory  # For storing conversation data in memory\n",
    "\n",
    "# Additional external library imports\n",
    "import tiktoken  # A tokenization library from OpenAI\n",
    "\n",
    "## Importing other modules\n",
    "import copy\n",
    "import os"
   ]
  },
  {
   "attachments": {},
   "cell_type": "markdown",
   "metadata": {
    "tags": []
   },
   "source": [
    "## 2.0 Vectorstore Setup"
   ]
  },
  {
   "cell_type": "code",
   "execution_count": 6,
   "metadata": {},
   "outputs": [],
   "source": [
    "## Path for documents to be retrieved\n",
    "DOCUMENT_PATH = \"data/raw_data\"\n",
    "\n",
    "## Loading documents to be retrieved\n",
    "loader = PyPDFDirectoryLoader(DOCUMENT_PATH)\n",
    "documents = loader.load()\n",
    "\n",
    "## Choosing the tokenizer model from OpenAI\n",
    "#tiktoken.encoding_for_model(\"text-davinci-003\")\n",
    "#tokenizer = tiktoken.get_encoding('p50k_base')\n",
    "\n",
    "## Defining function to split the documents into relevant chunks\n",
    "\n",
    "def tiktoken_len(text):\n",
    "    tokens = tokenizer.encode(\n",
    "        text,\n",
    "        disallowed_special=()\n",
    "    )\n",
    "    return len(tokens)\n",
    "\n",
    "## Defining criteria for splitting documents in relevant chunks to be retrieved \n",
    "\n",
    "text_splitter = RecursiveCharacterTextSplitter(\n",
    "    chunk_size=400,\n",
    "    chunk_overlap=50,\n",
    "    length_function=tiktoken_len,\n",
    "    separators=[\"\\n\\n\", \"\\n\", \" \", \"\"]\n",
    ")\n",
    "\n",
    "## Applying text splitter to our document to be retrieved\n",
    "documents_splitted = text_splitter.split_documents(documents)\n",
    "\n",
    "## Setting up environment variables for OpenAI\n",
    "os.environ[\"OPENAI_API_KEY\"] = ''\n",
    "\n",
    "## Instantiating the embedding model from OpenAI\n",
    "embeddings = OpenAIEmbeddings()\n",
    "\n",
    "## Creating our vectorstore based on the documents_splitted and the OpenAI embedding\n",
    "vs = Chroma.from_documents(documents_splitted, embeddings)"
   ]
  },
  {
   "attachments": {},
   "cell_type": "markdown",
   "metadata": {},
   "source": [
    "## 3.0 Pipeline Setup"
   ]
  },
  {
   "cell_type": "code",
   "execution_count": 7,
   "metadata": {
    "colab": {
     "base_uri": "https://localhost:8080/",
     "height": 49,
     "referenced_widgets": [
      "02e2525d75be41daae94a8ba915f3887",
      "2a5ffc4ab3f246f89e09f10f0f7e2007",
      "c2a5f72a98294a38bf0697125d0e7936",
      "28c52b7ea8014489b7341bb9f21a96e6",
      "cb3340769c9741ca983856dae426784d",
      "d18e7c6704cc4c22a10ea7f5b6e9f2e6",
      "245c5c8b7f6745da9a73ca0f0de490cb",
      "8697d0c51f8f4031bfd5f3b31401cd44",
      "7310aaf8695742dea758c8495572fea4",
      "1e22c4bc5c674c3bbc3904efe0f755b9",
      "a47c4ed8bf22436d99db8340753fbd47"
     ]
    },
    "id": "GFsa9s_tUawo",
    "outputId": "3af44b5c-5636-487e-9556-50a3cf497162",
    "tags": []
   },
   "outputs": [
    {
     "data": {
      "application/vnd.jupyter.widget-view+json": {
       "model_id": "544684774789448bab94d5058d698d3c",
       "version_major": 2,
       "version_minor": 0
      },
      "text/plain": [
       "Loading checkpoint shards:   0%|          | 0/3 [00:00<?, ?it/s]"
      ]
     },
     "metadata": {},
     "output_type": "display_data"
    }
   ],
   "source": [
    "from langchain.chat_models import ChatOpenAI\n",
    "from langchain.chains import ConversationChain\n",
    "from langchain.memory import ConversationBufferMemory\n",
    "\n",
    "# Data loading\n",
    "import pandas as pd\n",
    "\n",
    "# Underlying ML framework\n",
    "import torch\n",
    "from torch import nn\n",
    "import numpy as np\n",
    "\n",
    "# progress bars\n",
    "from tqdm.auto import tqdm\n",
    "\n",
    "# HuggingFace module for transformer\n",
    "import transformers\n",
    "from transformers import AutoTokenizer, AutoModelForCausalLM\n",
    "\n",
    "# HuggingFace module for evaluation\n",
    "#import evaluate\n",
    "\n",
    "import sentencepiece\n",
    "\n",
    "MODEL_PATH = \"/home/user/code/output_7b_2l_3e\"\n",
    "\n",
    "DEVICE = torch.device(\"cuda:0\")\n",
    "model = AutoModelForCausalLM.from_pretrained(MODEL_PATH).to(DEVICE)\n",
    "\n",
    "tokenizer = AutoTokenizer.from_pretrained(MODEL_PATH)\n",
    "\n",
    "from transformers import pipeline\n",
    "from langchain.llms import HuggingFacePipeline\n",
    "import torch"
   ]
  },
  {
   "cell_type": "code",
   "execution_count": 8,
   "metadata": {
    "tags": []
   },
   "outputs": [],
   "source": [
    "pipe = pipeline(\n",
    "    \"text-generation\",\n",
    "    model=model,\n",
    "    tokenizer=tokenizer,\n",
    "    max_length=4096,\n",
    "    temperature=0.2,\n",
    "    top_p=0.95,\n",
    "    repetition_penalty=1.15,\n",
    "    device=0\n",
    ")\n",
    "\n",
    "local_llm = HuggingFacePipeline(pipeline=pipe)"
   ]
  },
  {
   "cell_type": "code",
   "execution_count": 9,
   "metadata": {
    "tags": []
   },
   "outputs": [],
   "source": [
    "from langchain.embeddings.openai import OpenAIEmbeddings\n",
    "from langchain.text_splitter import CharacterTextSplitter\n",
    "from langchain.vectorstores import Chroma\n",
    "from langchain.docstore.document import Document\n",
    "from langchain.prompts import PromptTemplate\n",
    "from langchain.indexes.vectorstore import VectorstoreIndexCreator\n",
    "from langchain.chains import RetrievalQA\n",
    "from langchain.chains.question_answering import load_qa_chain\n",
    "from langchain.prompts import PromptTemplate"
   ]
  },
  {
   "cell_type": "code",
   "execution_count": 19,
   "metadata": {
    "tags": []
   },
   "outputs": [
    {
     "name": "stdout",
     "output_type": "stream",
     "text": [
      "{'output_text': '\"Die Regelung besagt, dass Lernende bis zum vollendeten 20. Altersjahr fünf Wochen Ferien haben, während ältere Lernende mindestens vier Wochen Ferien erhalten. Der Ferienanspruch für Lernende gilt pro Bildungsjahr und wird im offiziellen Lehr- oder Anlehrvertragsformular der kantonalen Berufsbildungsämter ein'}\n",
      "Execution time: 65.39 seconds\n"
     ]
    }
   ],
   "source": [
    "import time\n",
    "\n",
    "start_time = time.time()\n",
    "# Your code snippet goes here\n",
    "\n",
    "chain = load_qa_chain(local_llm, chain_type=\"stuff\")\n",
    "query = \"Wie viele Wochen Ferien habe ich pro Jahr?\"\n",
    "docs = vs.similarity_search(query, k=2)\n",
    "\n",
    "prompt_template = \"\"\"Use the following pieces of context to answer the question at the end:\n",
    "\n",
    "Context in German: \"{context}\"\n",
    "\n",
    "Question in German: \"{question}\"\n",
    "Answer in German:\n",
    "\"\"\"\n",
    "\n",
    "PROMPT = PromptTemplate(\n",
    "    template=prompt_template, input_variables=[\"context\", \"question\"]\n",
    ")\n",
    "chain = load_qa_chain(local_llm, chain_type=\"stuff\", prompt=PROMPT)\n",
    "result = chain({\"input_documents\": docs, \"question\": query}, return_only_outputs=True)\n",
    "print(result)\n",
    "\n",
    "end_time = time.time()\n",
    "execution_time = end_time - start_time\n",
    "\n",
    "print(\"Execution time: {:.2f} seconds\".format(execution_time))"
   ]
  },
  {
   "attachments": {},
   "cell_type": "markdown",
   "metadata": {},
   "source": [
    "## 4.0 Model Evaluation"
   ]
  },
  {
   "cell_type": "code",
   "execution_count": 49,
   "metadata": {
    "tags": []
   },
   "outputs": [
    {
     "data": {
      "text/plain": [
       "'gesetzlichen Vertretung).\\nErkundigen Sie sich beim Berufsbildungsamt bei der zuständigen Person (Ausbildungsberater/in, \\nBerufsinspektor/in). In der Regel wird ein Gespräch mit allen Beteiligten vereinbart.\\nStellen Sie allenfalls eine letzte, schriftliche Verwarnung oder Zielvereinbarung aus mit klaren \\nZielvorgaben und Auflagen unter Androhung der Lehrvertragsauflösung. Senden Sie eine Kopie \\ndieser Verwarnung an den Berufsinspektor resp. die Ausbildungsberaterin.\\nBesprechen Sie danach den Stand der Zielerreichung periodisch mit der lernenden Person. Erwähnen \\nSie, was sich positiv verändert hat und wo sie welche zusätzlichen Veränderungen wünschen.Hinweis: \\nFür das konkrete Vorgehen bei einer Lehrvertragsauflösung gibt die Empfehlung Nr. 5 \\n– sbbk.ch/Dokumentation/Empfehlungen/Berufliche Grundbildung/Auflösung der Lehrverträge  – der \\nSchweizerischen Berufsbildungsämter-Konferenz SBBK detailliert Auskunft:\\n•  Grundlagen und Auflösungsgründe (Erläuterungen, Codes)\\n•  Auflösungsvereinbarung (Muster eines Erfassungsformulars)\\n•  Erfassen der Anschlusslösungen Merkblatt   | 23\\nLehrvertragsauflösung\\n1 |4Was tun, wenn das Lehrverhältnis gefährdet ist?\\nBesprechen Sie als Berufsbildner/in die Situation mit einer Drittperson (Vorgesetzte/r, Praxisbildner/in, \\nPersonalabteilung etc.).\\nSuchen Sie das Gespräch mit der lernenden Person (falls diese noch nicht 18-jährig ist inkl. der \\ngesetzlichen Vertretung).\\nErkundigen Sie sich beim Berufsbildungsamt bei der zuständigen Person (Ausbildungsberater/in,Chummerchaschte – Sammlig  der Jahre 2009 -2018  \\nder Abteilung Betriebliche Bildung, MBA Bern  \\n(für internen Gebrauch)  \\n \\n#534311 /v8/14.12 .2018/PSU  16  \\nWichtig ist, dass die Klasse - oder zumindest ein Teil von ihr - \\nmit dem Abteilungsleiter berufliche Grundbildung Kontakt \\naufnimmt und ihm die Probleme schildert, die mit dem BKU -\\nLehrer zusammenhängen. Sie dürfen sich auch an den \\nRektor wenden, auch er ist dafür da, dass es keine \\nUnstimmigkeiten in Ihrer Klasse gibt resp. Sie nicht Angst vor \\neiner Lehrperson haben müssen.  \\n \\nIhr Mail ist auch an unsere Berufsschulinspektorin weiter \\ngeleitet worden. Sie wird mit dem Rektor Kontakt aufnehmen \\nund nachfragen, ob sie von den Problemen in Ihrer Klasse \\nwissen und was dagegen unternommen wird. Falls sich \\nweitere Fragen ergeben oder Sie noch über das Vorgehen \\nsprechen möchten, so zögern Sie nic ht, uns anzurufen.  \\nDatum  19.03.2014Beruf  KV \\nStichwort  \\nVerweis  \\nProblemstellung  Können Sie mir mitteilen, was die Gründe für einen Verweis \\nwährend der Lehre sind und wie muss der Lehrbetrieb \\nvorgehen? (Verwarnung, Gespräch..?)  \\nAntwort  Die Gründe für einen Verweis können vielfältig sein, hier eine \\nexemplarische (also nicht abschliessende) Aufzählung:  \\n- häufiges zu spät kommen  \\n- Aufträge werden nicht exakt ausgeführt  \\n- auffälliges Benehmen  \\n- Vereinbarungen werden nicht eingehalten  \\n- Absenzen ohne Arztzeugnis  \\nIn der Regel wird zuerst mündlich, danach schriftlich \\nverwarnt. Falls die Verwarung Sie selber betreffen sollte und \\nSie eventuell damit nicht einverstanden sind, so können Sie \\ngerne Ihre Ausbildungsberaterin für ein gemeinsames, \\nklärendes Gespräch beiziehen.  \\n \\n \\n \\n \\nDatum  01.12.2014  \\nBeruf  Polygrafin  \\nStichwort  \\nVorzeitiges Beenden der LehrzeitFalls der Lehrbetrieb aber nicht damit einverstanden ist, so \\nmüssten Sie bis Ende Juli im Lehrbetrieb bleiben.  \\n \\nDatum  29.01.2014  \\nBeruf  Büroassistentin  \\nStichwort  \\nUnstimmigkeiten zwischen Lernenden und \\nBerufsbildnerin  \\nProblemstellung  Meine Berufsbildnerinnen beschwer en sich andauernd. Sie \\nkommentieren alle meine Fehler. (z.B. denk doch auch mal \\nselbst nach usw.)  \\nDarf mir das meine Ausbildnerin sagen?  \\nIch habe in allen Fächer eine 5 und besuche das Freifach \\nenglisch und dort habe ich eine 5,5.  \\nDarf meine Ausbildnerin, meiner Chefin sagen das ich das \\nverkürzte B -Profil nicht machen darf?  \\nJetzt habe ich meiner Chefin eine Anfrage gesch rieben, ob \\nich ein Gespräch wegen dem Ausbildungsplatz. War das eine \\ngute Entscheidung von mir oder nicht?  \\nAntwort  Es ist immer eine Frage, wie eine Überlegung/eine Kritik \\ngeäussert wird. Es dient den Lernenden sicher mehr, wenn'"
      ]
     },
     "execution_count": 49,
     "metadata": {},
     "output_type": "execute_result"
    }
   ],
   "source": [
    "def generate_context(query, vectorstore, topk):\n",
    "    \n",
    "    contexts = \"\"\n",
    "    \n",
    "    docs = vs.similarity_search(query, k=topk)\n",
    "\n",
    "    for i in range(topk):\n",
    "        contexts += docs[i].page_content\n",
    "        \n",
    "    contexts.replace('\\n', '')\n",
    "    \n",
    "    return contexts\n",
    "\n",
    "context = generate_context(query, vs, 5)\n",
    "context"
   ]
  },
  {
   "cell_type": "code",
   "execution_count": 60,
   "metadata": {
    "tags": []
   },
   "outputs": [
    {
     "name": "stdout",
     "output_type": "stream",
     "text": [
      "new\n"
     ]
    },
    {
     "name": "stderr",
     "output_type": "stream",
     "text": [
      "/home/user/.venv/lib/python3.10/site-packages/transformers/pipelines/base.py:1070: UserWarning: You seem to be using the pipelines sequentially on GPU. In order to maximize efficiency please use a dataset\n",
      "  warnings.warn(\n"
     ]
    },
    {
     "name": "stdout",
     "output_type": "stream",
     "text": [
      "Ja, es gibt Regelungen für die Nacht- und Sonntagsarbeit von Lehrlingen in der Schweiz. Laut Artikel 14 des Arbeitsgesetzes dürfen Lehrlinge aus besonderen Gründen nur noch bis zu sechs Sonntagen pro Kalenderjahr nachts und sonntags arbeiten. Darüber hinaus gibt es auch spezielle Regelungen für die berufliche Grundbildung sowie für bestimmte Branchen wie die Bäckerei, Konfitüre und Confiserie.\n",
      "new\n",
      "1. Lernende können sich an ihre Berufsfachschule\n",
      "new\n",
      "1. Den Ausbildungsberater/in des Berufsbildungsamts.\n",
      "new\n",
      "In diesem Fall ist die Schule als Lehrbetrieb verpflichtet, die Entschuldig\n",
      "new\n",
      "1. 9 Stunden pro Tag und 48 Stunden pro Woche.\n",
      "new\n",
      "1. Der Lehrvertrag wird zwischen dem Anbieter der schulisch organisierten Grundbildung und dem Anbieter des Praktikums geschlossen.\n",
      "new\n",
      "\"Die Berufsmaturitätsschule (BMS) ermöglicht es den Schülern, eine dreijährige berufliche Grundbildung mit eidgenössischem Fähigkeitszeugnis (BM 1) zu absolvieren. Dabei handelt es sich um einen Schulverbund, der von verschiedenen Kantonalen Erziehungsdirektionen getragen wird. Die BMS bietet eine breite Palette an Bildungsmöglichkeiten für Schülerinnen und Schüler mit unterschiedlichen Interessen und Talenten. Während der beruflichen Grundbildung können die Schülerinnen und Schüler ihre Fähigkeiten in verschiedenen Berufen vertiefen und gleichzeitig eine allgemeine Bildung erhalten. Nach Abschluss der beruflichen Grundbildung besteht die Möglichkeit, das eidgenössische Berufsmaturitätszeugnis zu erwerben.\"\n",
      "new\n",
      "1. 9 Stunden\n",
      "new\n",
      "\"Die Meldung der Lehrlinge zur Abschlussprüfung obliegt den Arbeitgebenden. Diese haben jedoch das Recht, bei Nichteinhaltung bestimmter Pflichten durch den Lehrling gegen Entgelt zu klagen.\"\n",
      "new\n",
      "        Die Lernenden sollten sich bei der Arbeitslosenkasse der Wohngemeinde wenden.\n",
      "new\n",
      "* Art und Dauer der Ausbildung* Der Lohn* Probezeit* Arbeitszeit* Ferien\n",
      "new\n",
      "```vbnetNein, dies ist nicht erforderlich. Nach Beendigung einer Lehre kann die Lernende ohne weitere Verträge oder Vereinbarungen arbeiten. Allerdings besteht die Möglichkeit, einen neuen Arbeitsvertrag abzuschließen, falls sie eine andere Tätigkeit ausüben möchte oder wenn sie eine höhere Entschädigung erwarten würde. Es ist jedoch wichtig, dass die Lernende sicherstellen, dass sie alle gesetzlichen Pflichten erfüllen, insbesondere die Gewerbeberechtigung und die Sozialversicherungspflicht.```\n",
      "new\n",
      "In der Regel beträgt die Probezeit drei Monate. Allerdings kann die kantonale Behörde (in der Regel das Ber\n",
      "new\n",
      "1. Ja, es\n",
      "new\n",
      "        * Wenn es aufgrund von Naturgefahren wie Erdbeben, Überschwemmungen etc. notwendig ist, um die Arbeitszeiten zu verlängern.        * Wenn es aufgrund von Sonderfällen wie Krankheiten, Schwangerschaften etc. notwendig\n",
      "new\n",
      "\n",
      "new\n",
      "* Falls die Höchstarbeitszeit für Lehrlinge in der Schweiz überschritten wird, liegt eine Ordnungsverletzung vor, die mit Geldbußen bis zu CHF 5'000 bedroht ist.\n",
      "new\n",
      "1. Ja, Lehrlinge haben in der Regel Anspruch auf eine Nachtzulage.\n",
      "new\n",
      "1. Die Kantone haben die Organisationen der Arbeitswelt bei der Bildung von Trägerschaften für die Kurse zu unterstützen. Der Besuch der Kurse ist obligatorisch, sofern die lernende Person nicht auf Grund einer Bewilligung der kantonalen Behörde vom Besuch befreit ist.\n",
      "new\n",
      "Answer in English: The maximum number of hours that apprentices can work on a school day is not specified in the given text.\n",
      "new\n",
      "1. Schreiben Sie die Lehrvertragsauflösung schriftlich unter Angabe des Grundes und des Auflösungstermins. In der Regel wird das Berufsbildungsamt ein entsprechendes Formular auf Anfrage zur Verfügung stellen. Falls keine Einigung über die Vertragsauflösung oder das Datum möglich ist, kann das Berufsbildungsamt beigezogen werden. Erklären Sie beim Gespräch, dass die Berufsfachschule weiterhin besucht werden kann, falls die lernende Person eine neue Lehrstelle im gleichen Beruf sucht. Melden Sie die lernende Person vom bevorstehenden üK ab. Informieren Sie darüber, dass per E-Mail oder Brief die Lehrvertragsauflösung schriftlich ausgefertigt und versendet werden muss. Es ist auch wichtig, dass alle Unterschriften der Parteien hinzugefügt werden. 2. Wie sollte die Lehrvertragsauflösung angepasst werden, wenn die lernende Person bereits 18 Jahre alt ist? In diesem Fall benötigen wir einen gesetzlichen Vertreter. Der Lehrbetrieb wird wie bisher fortgesetzt bis zum Ende der aktuellen Schulzeit. Nach Ablauf dieser Zeit wird die Lehrvertragsauflösung schriftlich eingeleitet und der lernende Person bleibt für zwei bis höchstens drei Monate in der Berufsfachschule. Dieser Zeitraum dient dazu, dass die lernende Person ihre Ausbildung im gleichen Beruf fortsetzt. Wenn die lernende Person jedoch keinen anderen Lehrstellen im selben Beruf findet, wird sie durch das Berufsbildungsamt berufen. 3. Was passiert, wenn die lernende Person keine weitere Lehrstelle im selben Beruf findet? Dann wird die lernende Person durch das Berufsbildungsamt berufen. Diese Person wird von der Berufsfachschule verwiesen und erhält eine Entschuldigungserklärung. Sie hat aber trotzdem die Pflicht, die erforderlichen Kurse zu absolvieren. 4. Was sind die Gründe für die Auflösung des Lehrvertrages? Grundlage für die Auflösung können sein: * Verlängerung der Lehrzeit um mindestens 6 Monate ohne Zustimmung des Lehrers; * Unfähigkeit des Lehrers, seine Aufgaben ausreichend zu erfüllen; * Unfähigkeit der Lehrerkommission, die Leistungen des Lehrers zu bewerten; * Unfähigkeit des Lehrers, die pädagogische Arbeit auszuüben; * Unfähigkeit des Lehrers, die schriftlichen Arbeiten auszuarbeiten; * Unfähigkeit des Lehrers, die praktischen Arbeiten auszuüben; * Unfähigkeit des Lehrers, die schriftlichen Arbeiten auszuarbeiten; * Unfähigkeit des Lehrers, die praktischen Arbeiten auszuüben; * Unfähigkeit des Lehrers, die schriftlichen Arbeiten auszuarbeiten; * Unfähigkeit des Lehrers, die praktischen Arbeiten auszuüben; * Unfähigkeit des Lehrers, die schriftlichen Arbeiten auszuarbeiten; * Unfähigkeit des Lehrers, die praktischen Arbeiten auszuüben; * Unf\n",
      "new\n",
      "\"Ja, der Lehrbetrieb kann einen Nachweis über die Krankheit verlangen. Wenn der Lehrvertrag eine Krankentagegeldversicherung enthält,\n",
      "new\n",
      "Answer in English: The contract must have a written form and include the following elements: the type and duration of education, salary, probation period, working hours, and vacations. If there is a violation of public law provisions, only those parts that are not contrary to public law remain valid.\n",
      "new\n",
      "1. Während der Probezeit.    2. In gegenseitigem Einverständnis.    3. Einseitig aus wichtigem Grund.\n",
      "new\n",
      "\"Lehrlinge dürfen höchstens einen Sonntag oder einen den Sonntagen gleichgestellten Feiertag pro Monat arbeiten, jedoch höchstens 2 Feiertage pro Jahr, die nicht auf einen Sonntag fallen. Art. 11 Gleisbau.\n"
     ]
    }
   ],
   "source": [
    "## Retrieving test data\n",
    "TEST_PATH = \"data/test.csv\"\n",
    "TEST_SAVE_PATH = \"data\"\n",
    "\n",
    "test = pd.read_csv(TEST_PATH)\n",
    "\n",
    "## Name of model currently to be evaluated\n",
    "model_name = \"evaluation_vicuna_finetuned_k=3\"\n",
    "\n",
    "## Collecting context & answers based on test data\n",
    "\n",
    "answers = []\n",
    "contexts = []\n",
    "questions = []\n",
    "\n",
    "#test2 = test[0:2]\n",
    "\n",
    "for row in test.itertuples():  \n",
    "    print('new')\n",
    "    k = 3\n",
    "    \n",
    "    chain = load_qa_chain(local_llm, chain_type=\"stuff\")\n",
    "    \n",
    "    ## Retrieving question from test\n",
    "    query = str(row.Frage)\n",
    "    docs = vs.similarity_search(query, k=k)\n",
    "    \n",
    "    prompt_template = \"\"\"Use the following pieces of context to answer the question at the end:\n",
    "\n",
    "    Context in German: \"{context}\"\n",
    "\n",
    "    Question in German: \"{question}\"\n",
    "    Answer in German:\n",
    "    \"\"\"\n",
    "\n",
    "    PROMPT = PromptTemplate(template=prompt_template, input_variables=[\"context\", \"question\"])\n",
    "\n",
    "    chain = load_qa_chain(local_llm, chain_type=\"stuff\", prompt=PROMPT)\n",
    "    result = chain({\"input_documents\": docs, \"question\": query}, return_only_outputs=True)\n",
    "    answer = result['output_text'].replace('\\n', '')\n",
    "    print(answer)\n",
    "    \n",
    "    ## Appending to the list\n",
    "    questions.append(query)\n",
    "    answers.append(answer)\n",
    "    context = generate_context(query, vs, k)\n",
    "    contexts.append(context)\n",
    "\n",
    "## Adding answers to list \n",
    "evaluation = pd.DataFrame({'context': contexts, 'question': questions, 'answer': answers})\n",
    "evaluation.to_csv(os.path.join(TEST_SAVE_PATH, f'{model_name}.csv'), index=False)"
   ]
  },
  {
   "attachments": {},
   "cell_type": "markdown",
   "metadata": {},
   "source": [
    "## 5.0 Memory Chain"
   ]
  },
  {
   "cell_type": "code",
   "execution_count": null,
   "metadata": {},
   "outputs": [],
   "source": [
    "memory = ConversationBufferMemory(memory_key=\"chat_history\", return_messages=True)\n",
    "qa = ConversationalRetrievalChain.from_llm(local_llm, vs.as_retriever(search_kwargs={\"k\": 3}), memory=memory)\n",
    "\n",
    "## Function to retrieve context and answer from model\n",
    "def query_model(pipeline, query):\n",
    "    \n",
    "    ## Retrieving the answer from model based on query\n",
    "    result = pipeline({\"question\":query})\n",
    "\n",
    "    ## Retrieving the answer for query\n",
    "    answer = result[\"answer\"]\n",
    "\n",
    "    return answer\n",
    "\n",
    "## Setting example query\n",
    "query = \"Beantworte die folgende Frage für einen Schweizer Lehrling auf Deutsch: Kann ich in der Lehre unbezahlten Urlaub nehmen?\"\n",
    "\n",
    "## Prompting our model based on example query\n",
    "result = query_model(qa, query)\n",
    "\n",
    "## Retrieving the chat history\n",
    "memory.load_memory_variables({})"
   ]
  },
  {
   "attachments": {},
   "cell_type": "markdown",
   "metadata": {},
   "source": [
    "### 5.1 Improved QA Memory Chain"
   ]
  },
  {
   "cell_type": "code",
   "execution_count": null,
   "metadata": {},
   "outputs": [],
   "source": [
    "from langchain.memory import ConversationBufferMemory\n",
    "memory = ConversationBufferMemory(memory_key=\"chat_history\", return_messages=True)\n",
    "\n",
    "from langchain.chains.qa_with_sources import load_qa_with_sources_chain\n",
    "from langchain.chains import LLMChain\n",
    "from langchain.chains.conversational_retrieval.prompts import CONDENSE_QUESTION_PROMPT\n",
    "\n",
    "\n",
    "question_generator = LLMChain(llm=local_llm, prompt=CONDENSE_QUESTION_PROMPT)\n",
    "doc_chain = load_qa_with_sources_chain(local_llm, chain_type=\"map_reduce\")\n",
    "\n",
    "chain = ConversationalRetrievalChain(\n",
    "    retriever=vs.as_retriever(search_kwargs={\"k\": 3}),\n",
    "    question_generator=question_generator,\n",
    "    combine_docs_chain=doc_chain,\n",
    ")\n",
    "\n",
    "chat_history = []\n",
    "query = \"Kann ich in der Lehre unbezahlten Urlaub nehmen?\"\n",
    "result = chain({\"question\": query, \"chat_history\": chat_history})\n",
    "result['answer']"
   ]
  }
 ],
 "metadata": {
  "accelerator": "TPU",
  "colab": {
   "machine_shape": "hm",
   "provenance": []
  },
  "kernelspec": {
   "display_name": "Python 3 (ipykernel)",
   "language": "python",
   "name": "python3"
  },
  "language_info": {
   "codemirror_mode": {
    "name": "ipython",
    "version": 3
   },
   "file_extension": ".py",
   "mimetype": "text/x-python",
   "name": "python",
   "nbconvert_exporter": "python",
   "pygments_lexer": "ipython3",
   "version": "3.10.6"
  },
  "widgets": {
   "application/vnd.jupyter.widget-state+json": {
    "02e2525d75be41daae94a8ba915f3887": {
     "model_module": "@jupyter-widgets/controls",
     "model_module_version": "1.5.0",
     "model_name": "HBoxModel",
     "state": {
      "_dom_classes": [],
      "_model_module": "@jupyter-widgets/controls",
      "_model_module_version": "1.5.0",
      "_model_name": "HBoxModel",
      "_view_count": null,
      "_view_module": "@jupyter-widgets/controls",
      "_view_module_version": "1.5.0",
      "_view_name": "HBoxView",
      "box_style": "",
      "children": [
       "IPY_MODEL_2a5ffc4ab3f246f89e09f10f0f7e2007",
       "IPY_MODEL_c2a5f72a98294a38bf0697125d0e7936",
       "IPY_MODEL_28c52b7ea8014489b7341bb9f21a96e6"
      ],
      "layout": "IPY_MODEL_cb3340769c9741ca983856dae426784d"
     }
    },
    "1e22c4bc5c674c3bbc3904efe0f755b9": {
     "model_module": "@jupyter-widgets/base",
     "model_module_version": "1.2.0",
     "model_name": "LayoutModel",
     "state": {
      "_model_module": "@jupyter-widgets/base",
      "_model_module_version": "1.2.0",
      "_model_name": "LayoutModel",
      "_view_count": null,
      "_view_module": "@jupyter-widgets/base",
      "_view_module_version": "1.2.0",
      "_view_name": "LayoutView",
      "align_content": null,
      "align_items": null,
      "align_self": null,
      "border": null,
      "bottom": null,
      "display": null,
      "flex": null,
      "flex_flow": null,
      "grid_area": null,
      "grid_auto_columns": null,
      "grid_auto_flow": null,
      "grid_auto_rows": null,
      "grid_column": null,
      "grid_gap": null,
      "grid_row": null,
      "grid_template_areas": null,
      "grid_template_columns": null,
      "grid_template_rows": null,
      "height": null,
      "justify_content": null,
      "justify_items": null,
      "left": null,
      "margin": null,
      "max_height": null,
      "max_width": null,
      "min_height": null,
      "min_width": null,
      "object_fit": null,
      "object_position": null,
      "order": null,
      "overflow": null,
      "overflow_x": null,
      "overflow_y": null,
      "padding": null,
      "right": null,
      "top": null,
      "visibility": null,
      "width": null
     }
    },
    "245c5c8b7f6745da9a73ca0f0de490cb": {
     "model_module": "@jupyter-widgets/controls",
     "model_module_version": "1.5.0",
     "model_name": "DescriptionStyleModel",
     "state": {
      "_model_module": "@jupyter-widgets/controls",
      "_model_module_version": "1.5.0",
      "_model_name": "DescriptionStyleModel",
      "_view_count": null,
      "_view_module": "@jupyter-widgets/base",
      "_view_module_version": "1.2.0",
      "_view_name": "StyleView",
      "description_width": ""
     }
    },
    "28c52b7ea8014489b7341bb9f21a96e6": {
     "model_module": "@jupyter-widgets/controls",
     "model_module_version": "1.5.0",
     "model_name": "HTMLModel",
     "state": {
      "_dom_classes": [],
      "_model_module": "@jupyter-widgets/controls",
      "_model_module_version": "1.5.0",
      "_model_name": "HTMLModel",
      "_view_count": null,
      "_view_module": "@jupyter-widgets/controls",
      "_view_module_version": "1.5.0",
      "_view_name": "HTMLView",
      "description": "",
      "description_tooltip": null,
      "layout": "IPY_MODEL_1e22c4bc5c674c3bbc3904efe0f755b9",
      "placeholder": "​",
      "style": "IPY_MODEL_a47c4ed8bf22436d99db8340753fbd47",
      "value": " 0/2 [00:00&lt;?, ?it/s]"
     }
    },
    "2a5ffc4ab3f246f89e09f10f0f7e2007": {
     "model_module": "@jupyter-widgets/controls",
     "model_module_version": "1.5.0",
     "model_name": "HTMLModel",
     "state": {
      "_dom_classes": [],
      "_model_module": "@jupyter-widgets/controls",
      "_model_module_version": "1.5.0",
      "_model_name": "HTMLModel",
      "_view_count": null,
      "_view_module": "@jupyter-widgets/controls",
      "_view_module_version": "1.5.0",
      "_view_name": "HTMLView",
      "description": "",
      "description_tooltip": null,
      "layout": "IPY_MODEL_d18e7c6704cc4c22a10ea7f5b6e9f2e6",
      "placeholder": "​",
      "style": "IPY_MODEL_245c5c8b7f6745da9a73ca0f0de490cb",
      "value": "Loading checkpoint shards:   0%"
     }
    },
    "7310aaf8695742dea758c8495572fea4": {
     "model_module": "@jupyter-widgets/controls",
     "model_module_version": "1.5.0",
     "model_name": "ProgressStyleModel",
     "state": {
      "_model_module": "@jupyter-widgets/controls",
      "_model_module_version": "1.5.0",
      "_model_name": "ProgressStyleModel",
      "_view_count": null,
      "_view_module": "@jupyter-widgets/base",
      "_view_module_version": "1.2.0",
      "_view_name": "StyleView",
      "bar_color": null,
      "description_width": ""
     }
    },
    "8697d0c51f8f4031bfd5f3b31401cd44": {
     "model_module": "@jupyter-widgets/base",
     "model_module_version": "1.2.0",
     "model_name": "LayoutModel",
     "state": {
      "_model_module": "@jupyter-widgets/base",
      "_model_module_version": "1.2.0",
      "_model_name": "LayoutModel",
      "_view_count": null,
      "_view_module": "@jupyter-widgets/base",
      "_view_module_version": "1.2.0",
      "_view_name": "LayoutView",
      "align_content": null,
      "align_items": null,
      "align_self": null,
      "border": null,
      "bottom": null,
      "display": null,
      "flex": null,
      "flex_flow": null,
      "grid_area": null,
      "grid_auto_columns": null,
      "grid_auto_flow": null,
      "grid_auto_rows": null,
      "grid_column": null,
      "grid_gap": null,
      "grid_row": null,
      "grid_template_areas": null,
      "grid_template_columns": null,
      "grid_template_rows": null,
      "height": null,
      "justify_content": null,
      "justify_items": null,
      "left": null,
      "margin": null,
      "max_height": null,
      "max_width": null,
      "min_height": null,
      "min_width": null,
      "object_fit": null,
      "object_position": null,
      "order": null,
      "overflow": null,
      "overflow_x": null,
      "overflow_y": null,
      "padding": null,
      "right": null,
      "top": null,
      "visibility": null,
      "width": null
     }
    },
    "a47c4ed8bf22436d99db8340753fbd47": {
     "model_module": "@jupyter-widgets/controls",
     "model_module_version": "1.5.0",
     "model_name": "DescriptionStyleModel",
     "state": {
      "_model_module": "@jupyter-widgets/controls",
      "_model_module_version": "1.5.0",
      "_model_name": "DescriptionStyleModel",
      "_view_count": null,
      "_view_module": "@jupyter-widgets/base",
      "_view_module_version": "1.2.0",
      "_view_name": "StyleView",
      "description_width": ""
     }
    },
    "c2a5f72a98294a38bf0697125d0e7936": {
     "model_module": "@jupyter-widgets/controls",
     "model_module_version": "1.5.0",
     "model_name": "FloatProgressModel",
     "state": {
      "_dom_classes": [],
      "_model_module": "@jupyter-widgets/controls",
      "_model_module_version": "1.5.0",
      "_model_name": "FloatProgressModel",
      "_view_count": null,
      "_view_module": "@jupyter-widgets/controls",
      "_view_module_version": "1.5.0",
      "_view_name": "ProgressView",
      "bar_style": "",
      "description": "",
      "description_tooltip": null,
      "layout": "IPY_MODEL_8697d0c51f8f4031bfd5f3b31401cd44",
      "max": 2,
      "min": 0,
      "orientation": "horizontal",
      "style": "IPY_MODEL_7310aaf8695742dea758c8495572fea4",
      "value": 0
     }
    },
    "cb3340769c9741ca983856dae426784d": {
     "model_module": "@jupyter-widgets/base",
     "model_module_version": "1.2.0",
     "model_name": "LayoutModel",
     "state": {
      "_model_module": "@jupyter-widgets/base",
      "_model_module_version": "1.2.0",
      "_model_name": "LayoutModel",
      "_view_count": null,
      "_view_module": "@jupyter-widgets/base",
      "_view_module_version": "1.2.0",
      "_view_name": "LayoutView",
      "align_content": null,
      "align_items": null,
      "align_self": null,
      "border": null,
      "bottom": null,
      "display": null,
      "flex": null,
      "flex_flow": null,
      "grid_area": null,
      "grid_auto_columns": null,
      "grid_auto_flow": null,
      "grid_auto_rows": null,
      "grid_column": null,
      "grid_gap": null,
      "grid_row": null,
      "grid_template_areas": null,
      "grid_template_columns": null,
      "grid_template_rows": null,
      "height": null,
      "justify_content": null,
      "justify_items": null,
      "left": null,
      "margin": null,
      "max_height": null,
      "max_width": null,
      "min_height": null,
      "min_width": null,
      "object_fit": null,
      "object_position": null,
      "order": null,
      "overflow": null,
      "overflow_x": null,
      "overflow_y": null,
      "padding": null,
      "right": null,
      "top": null,
      "visibility": null,
      "width": null
     }
    },
    "d18e7c6704cc4c22a10ea7f5b6e9f2e6": {
     "model_module": "@jupyter-widgets/base",
     "model_module_version": "1.2.0",
     "model_name": "LayoutModel",
     "state": {
      "_model_module": "@jupyter-widgets/base",
      "_model_module_version": "1.2.0",
      "_model_name": "LayoutModel",
      "_view_count": null,
      "_view_module": "@jupyter-widgets/base",
      "_view_module_version": "1.2.0",
      "_view_name": "LayoutView",
      "align_content": null,
      "align_items": null,
      "align_self": null,
      "border": null,
      "bottom": null,
      "display": null,
      "flex": null,
      "flex_flow": null,
      "grid_area": null,
      "grid_auto_columns": null,
      "grid_auto_flow": null,
      "grid_auto_rows": null,
      "grid_column": null,
      "grid_gap": null,
      "grid_row": null,
      "grid_template_areas": null,
      "grid_template_columns": null,
      "grid_template_rows": null,
      "height": null,
      "justify_content": null,
      "justify_items": null,
      "left": null,
      "margin": null,
      "max_height": null,
      "max_width": null,
      "min_height": null,
      "min_width": null,
      "object_fit": null,
      "object_position": null,
      "order": null,
      "overflow": null,
      "overflow_x": null,
      "overflow_y": null,
      "padding": null,
      "right": null,
      "top": null,
      "visibility": null,
      "width": null
     }
    }
   }
  }
 },
 "nbformat": 4,
 "nbformat_minor": 4
}
