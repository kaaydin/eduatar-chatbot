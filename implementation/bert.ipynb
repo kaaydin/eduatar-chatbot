{
 "cells": [
  {
   "attachments": {},
   "cell_type": "markdown",
   "metadata": {},
   "source": [
    "# BERT / GELECTRA Implementation"
   ]
  },
  {
   "attachments": {},
   "cell_type": "markdown",
   "metadata": {},
   "source": [
    "## 1. Environment Setup"
   ]
  },
  {
   "attachments": {},
   "cell_type": "markdown",
   "metadata": {},
   "source": [
    "### 1.1. Imports"
   ]
  },
  {
   "cell_type": "code",
   "execution_count": 1,
   "metadata": {},
   "outputs": [],
   "source": [
    "## Importing DS modules\n",
    "import pandas as pd\n",
    "\n",
    "## Importing Torch modules\n",
    "import torch\n",
    "\n",
    "## Importing HF modules\n",
    "from transformers import AutoTokenizer, AutoModelForQuestionAnswering, pipeline\n",
    "\n",
    "## Importing LangChain modules\n",
    "from langchain.document_loaders import PyPDFDirectoryLoader\n",
    "from langchain.embeddings import HuggingFaceEmbeddings\n",
    "from langchain.embeddings import CohereEmbeddings\n",
    "from langchain.embeddings import OpenAIEmbeddings\n",
    "from langchain.text_splitter import RecursiveCharacterTextSplitter\n",
    "from langchain.vectorstores import Chroma\n",
    "\n",
    "## Importing other modules\n",
    "import copy\n",
    "import os"
   ]
  },
  {
   "attachments": {},
   "cell_type": "markdown",
   "metadata": {},
   "source": [
    "### 1.2 Global Variables"
   ]
  },
  {
   "cell_type": "code",
   "execution_count": 26,
   "metadata": {},
   "outputs": [],
   "source": [
    "## Path for documents to be retrieved\n",
    "DOCUMENT_PATH = \"/Users/kaanaydin/Library/CloudStorage/OneDrive-SharedLibraries-UniversitätSt.Gallen/STUD-NLP Group Project - General/02 Group project/data/raw_data\"\n",
    "\n",
    "## Path for finetuned_model\n",
    "FINETUNED_MODEL_PATH = '/Users/kaanaydin/Library/CloudStorage/OneDrive-SharedLibraries-UniversitätSt.Gallen/STUD-NLP Group Project - General/02 Group project/bert/bert-finetuned'\n",
    "\n",
    "## Path for test data \n",
    "TEST_LOAD_PATH = \"/Users/kaanaydin/Library/CloudStorage/OneDrive-SharedLibraries-UniversitätSt.Gallen/STUD-NLP Group Project - General/02 Group project/data/data-preparation/test.csv\"\n",
    "\n",
    "## Path to save result on test\n",
    "TEST_SAVE_PATH = \"/Users/kaanaydin/Library/CloudStorage/OneDrive-SharedLibraries-UniversitätSt.Gallen/STUD-NLP Group Project - General/02 Group project/evaluation\""
   ]
  },
  {
   "cell_type": "code",
   "execution_count": 3,
   "metadata": {},
   "outputs": [],
   "source": [
    "## Initialization of Torch device to use MPS for GPU acceleration for faster computation\n",
    "DEVICE = torch.device(\"mps\")"
   ]
  },
  {
   "cell_type": "code",
   "execution_count": 4,
   "metadata": {},
   "outputs": [],
   "source": [
    "## Setting up environment variables for OpenAI\n",
    "os.environ[\"OPENAI_API_KEY\"] = ''"
   ]
  },
  {
   "attachments": {},
   "cell_type": "markdown",
   "metadata": {},
   "source": [
    "## 2.0 Vectorstore Setup"
   ]
  },
  {
   "cell_type": "code",
   "execution_count": 5,
   "metadata": {},
   "outputs": [],
   "source": [
    "## Loading documents to be retrieved\n",
    "loader = PyPDFDirectoryLoader(DOCUMENT_PATH)\n",
    "documents = loader.load()"
   ]
  },
  {
   "cell_type": "code",
   "execution_count": 6,
   "metadata": {},
   "outputs": [],
   "source": [
    "## Defining function to split the documents into relevant chunks\n",
    "\n",
    "def token_length(text):\n",
    "    tokens = tokenizer.encode(\n",
    "        text,\n",
    "    )\n",
    "    return len(tokens)"
   ]
  },
  {
   "cell_type": "code",
   "execution_count": 46,
   "metadata": {},
   "outputs": [],
   "source": [
    "## Defining criteria for splitting documents in relevant chunks to be retrieved \n",
    "text_splitter = RecursiveCharacterTextSplitter(\n",
    "    chunk_size=400,\n",
    "    chunk_overlap=50,\n",
    "    length_function=token_length,\n",
    "    separators=[\"\\n\\n\", \"\\n\", \" \", \"\"]\n",
    ")"
   ]
  },
  {
   "cell_type": "code",
   "execution_count": 47,
   "metadata": {},
   "outputs": [],
   "source": [
    "## Applying text splitter to our document to be retrieved\n",
    "documents_splitted = text_splitter.split_documents(documents)"
   ]
  },
  {
   "cell_type": "code",
   "execution_count": 48,
   "metadata": {},
   "outputs": [],
   "source": [
    "## Instantiating the embedding model from HuggingFace\n",
    "embeddings_huggingface = HuggingFaceEmbeddings()\n",
    "embeddings_openai = OpenAIEmbeddings()"
   ]
  },
  {
   "cell_type": "code",
   "execution_count": 60,
   "metadata": {},
   "outputs": [
    {
     "name": "stderr",
     "output_type": "stream",
     "text": [
      "Using embedded DuckDB without persistence: data will be transient\n"
     ]
    }
   ],
   "source": [
    "## Creating our vectorstore based on the documents_splitted and the HuggingFace embedding\n",
    "vs = Chroma.from_documents(documents_splitted, embeddings_huggingface)"
   ]
  },
  {
   "attachments": {},
   "cell_type": "markdown",
   "metadata": {},
   "source": [
    "## 3.0 Pipeline Setup"
   ]
  },
  {
   "cell_type": "code",
   "execution_count": 50,
   "metadata": {},
   "outputs": [],
   "source": [
    "## Instantiating finetuned model & tokenizer\n",
    "model = AutoModelForQuestionAnswering.from_pretrained(FINETUNED_MODEL_PATH)\n",
    "tokenizer = AutoTokenizer.from_pretrained(\"deepset/gelectra-large-germanquad\")\n",
    "\n",
    "model.to(DEVICE);"
   ]
  },
  {
   "cell_type": "code",
   "execution_count": 51,
   "metadata": {},
   "outputs": [],
   "source": [
    "## Setting up pipeline for question-answering\n",
    "qa_pipeline = pipeline('question-answering', model=model, tokenizer=tokenizer, device=\"mps\")"
   ]
  },
  {
   "cell_type": "code",
   "execution_count": 52,
   "metadata": {},
   "outputs": [],
   "source": [
    "## Function to retrieve context and answer from model\n",
    "\n",
    "def generate_context(query, vectorstore, topk):\n",
    "    contexts = \"\"\n",
    "    for i in range(topk):\n",
    "        contexts += vectorstore.similarity_search(query)[i].page_content\n",
    "    \n",
    "    return contexts\n",
    "\n",
    "## Function to retrieve context and answer from model\n",
    "\n",
    "def query_model(pipeline, query, context):\n",
    "    answer = pipeline({'context': context, 'question': query})\n",
    "    full_answer = answer[\"answer\"]\n",
    "    return full_answer"
   ]
  },
  {
   "cell_type": "code",
   "execution_count": 53,
   "metadata": {},
   "outputs": [],
   "source": [
    "## Setting example query\n",
    "query = \"Wie lange darf die Arbeitszeit w√§hrend der Nacht maximal sein?\""
   ]
  },
  {
   "cell_type": "code",
   "execution_count": null,
   "metadata": {},
   "outputs": [],
   "source": [
    "## Prompting our model based on example query\n",
    "\n",
    "## Extracting the context\n",
    "context = generate_context(query, vs, 4)\n",
    "\n",
    "## Extracting the answer\n",
    "answer = query_model(qa_pipeline, query, context)"
   ]
  },
  {
   "attachments": {},
   "cell_type": "markdown",
   "metadata": {},
   "source": [
    "## 4.0 Model Evaluation (on test data)"
   ]
  },
  {
   "cell_type": "code",
   "execution_count": 55,
   "metadata": {},
   "outputs": [],
   "source": [
    "## Retrieving test data\n",
    "test = pd.read_csv(TEST_LOAD_PATH)"
   ]
  },
  {
   "cell_type": "code",
   "execution_count": 56,
   "metadata": {},
   "outputs": [],
   "source": [
    "## Name of model currently to be evaluated\n",
    "model_name = \"gelectra-finetuned\""
   ]
  },
  {
   "cell_type": "code",
   "execution_count": 57,
   "metadata": {},
   "outputs": [],
   "source": [
    "## Collecting context & answers based on test data\n",
    "\n",
    "answers = []\n",
    "\n",
    "for row in test.itertuples():\n",
    "    \n",
    "    ## Retrieving question from test\n",
    "    question = str(row.Frage)\n",
    "    \n",
    "    ## Generating context and answer based on pipeline\n",
    "    context = generate_context(question, vs, 4)\n",
    "    answer = query_model(qa_pipeline, question, context)\n",
    "    \n",
    "    ## Appending context & answer to the list\n",
    "    answers.append(answer)\n",
    "\n",
    "## Adding answers to list \n",
    "evaluation = copy.deepcopy(test)\n",
    "evaluation[\"ModelAntwort\"] = answers"
   ]
  },
  {
   "cell_type": "code",
   "execution_count": 59,
   "metadata": {},
   "outputs": [],
   "source": [
    "## Saving the testset results\n",
    "evaluation.to_csv(os.path.join(TEST_SAVE_PATH, f'{model_name}_evaluation.csv'), index=False)"
   ]
  }
 ],
 "metadata": {
  "kernelspec": {
   "display_name": "torch-gpu",
   "language": "python",
   "name": "python3"
  },
  "language_info": {
   "codemirror_mode": {
    "name": "ipython",
    "version": 3
   },
   "file_extension": ".py",
   "mimetype": "text/x-python",
   "name": "python",
   "nbconvert_exporter": "python",
   "pygments_lexer": "ipython3",
   "version": "3.10.11"
  },
  "orig_nbformat": 4
 },
 "nbformat": 4,
 "nbformat_minor": 2
}
