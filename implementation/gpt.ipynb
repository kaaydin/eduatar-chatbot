{
 "cells": [
  {
   "attachments": {},
   "cell_type": "markdown",
   "metadata": {},
   "source": [
    "# GPT-LangChain Implementation"
   ]
  },
  {
   "attachments": {},
   "cell_type": "markdown",
   "metadata": {},
   "source": [
    "## 1. Environment Setup"
   ]
  },
  {
   "attachments": {},
   "cell_type": "markdown",
   "metadata": {},
   "source": [
    "### 1.1. Imports"
   ]
  },
  {
   "cell_type": "code",
   "execution_count": 1,
   "metadata": {},
   "outputs": [],
   "source": [
    "## Importing DS modules\n",
    "import pandas as pd\n",
    "\n",
    "## Importing OpenAI modules\n",
    "import tiktoken\n",
    "\n",
    "## Importing LangChain modules\n",
    "from langchain.document_loaders import PyPDFDirectoryLoader\n",
    "from langchain.embeddings import OpenAIEmbeddings\n",
    "from langchain.text_splitter import RecursiveCharacterTextSplitter\n",
    "from langchain.vectorstores import Chroma\n",
    "from langchain.llms import OpenAI\n",
    "from langchain.chains import ConversationalRetrievalChain\n",
    "from langchain.memory import ConversationBufferMemory\n",
    "\n",
    "## Importing other modules\n",
    "import copy\n",
    "import os"
   ]
  },
  {
   "attachments": {},
   "cell_type": "markdown",
   "metadata": {},
   "source": [
    "### 1.2 Global Variables"
   ]
  },
  {
   "cell_type": "code",
   "execution_count": 2,
   "metadata": {},
   "outputs": [],
   "source": [
    "## Path for documents to be retrieved\n",
    "DOCUMENT_PATH = \"/Users/kaanaydin/Library/CloudStorage/OneDrive-SharedLibraries-UniversitätSt.Gallen/STUD-NLP Group Project - General/02 Group project/data/raw_data\"\n",
    "\n",
    "## Path for test data \n",
    "TEST_LOAD_PATH = \"/Users/kaanaydin/Library/CloudStorage/OneDrive-SharedLibraries-UniversitätSt.Gallen/STUD-NLP Group Project - General/02 Group project/data/data-preparation/test.csv\"\n",
    "\n",
    "## Path to save result on test\n",
    "TEST_SAVE_PATH = \"/Users/kaanaydin/Library/CloudStorage/OneDrive-SharedLibraries-UniversitätSt.Gallen/STUD-NLP Group Project - General/02 Group project/evaluation\""
   ]
  },
  {
   "cell_type": "code",
   "execution_count": 3,
   "metadata": {},
   "outputs": [],
   "source": [
    "## Setting up environment variables for OpenAI\n",
    "os.environ[\"OPENAI_API_KEY\"] = ''"
   ]
  },
  {
   "attachments": {},
   "cell_type": "markdown",
   "metadata": {},
   "source": [
    "## 2.0 Vectorstore Setup"
   ]
  },
  {
   "cell_type": "code",
   "execution_count": 4,
   "metadata": {},
   "outputs": [],
   "source": [
    "## Loading documents to be retrieved\n",
    "loader = PyPDFDirectoryLoader(DOCUMENT_PATH)\n",
    "documents = loader.load()"
   ]
  },
  {
   "cell_type": "code",
   "execution_count": 5,
   "metadata": {},
   "outputs": [],
   "source": [
    "## Choosing the tokenizer model from OpenAI\n",
    "tiktoken.encoding_for_model(\"text-davinci-003\")\n",
    "tokenizer = tiktoken.get_encoding('p50k_base')"
   ]
  },
  {
   "cell_type": "code",
   "execution_count": 6,
   "metadata": {},
   "outputs": [],
   "source": [
    "## Defining function to split the documents into relevant chunks\n",
    "\n",
    "def token_length(text):\n",
    "    tokens = tokenizer.encode(\n",
    "        text,\n",
    "        disallowed_special=()\n",
    "    )\n",
    "    return len(tokens)"
   ]
  },
  {
   "cell_type": "code",
   "execution_count": 7,
   "metadata": {},
   "outputs": [],
   "source": [
    "## Defining criteria for splitting documents in relevant chunks to be retrieved \n",
    "\n",
    "text_splitter = RecursiveCharacterTextSplitter(\n",
    "    chunk_size=400,\n",
    "    chunk_overlap=50,\n",
    "    length_function=token_length,\n",
    "    separators=[\"\\n\\n\", \"\\n\", \" \", \"\"]\n",
    ")"
   ]
  },
  {
   "cell_type": "code",
   "execution_count": 8,
   "metadata": {},
   "outputs": [],
   "source": [
    "## Applying text splitter to our document to be retrieved\n",
    "documents_splitted = text_splitter.split_documents(documents)"
   ]
  },
  {
   "cell_type": "code",
   "execution_count": 9,
   "metadata": {},
   "outputs": [],
   "source": [
    "## Instantiating the embedding model from OpenAI\n",
    "embeddings = OpenAIEmbeddings()"
   ]
  },
  {
   "cell_type": "code",
   "execution_count": 10,
   "metadata": {},
   "outputs": [
    {
     "name": "stderr",
     "output_type": "stream",
     "text": [
      "Using embedded DuckDB without persistence: data will be transient\n"
     ]
    }
   ],
   "source": [
    "## Creating our vectorstore based on the documents_splitted and the OpenAI embedding\n",
    "vs = Chroma.from_documents(documents_splitted, embeddings)"
   ]
  },
  {
   "attachments": {},
   "cell_type": "markdown",
   "metadata": {},
   "source": [
    "## 3.0 Pipeline Setup"
   ]
  },
  {
   "cell_type": "code",
   "execution_count": 11,
   "metadata": {},
   "outputs": [],
   "source": [
    "## Setting the conversation memory buffer \n",
    "memory = ConversationBufferMemory(memory_key=\"chat_history\", return_messages=True)"
   ]
  },
  {
   "cell_type": "code",
   "execution_count": 12,
   "metadata": {},
   "outputs": [],
   "source": [
    "## Instantiating GPT based on example prompt, the relevant document with the memory function \n",
    "qa = ConversationalRetrievalChain.from_llm(OpenAI(temperature=0), vs.as_retriever(), memory=memory)"
   ]
  },
  {
   "cell_type": "code",
   "execution_count": 13,
   "metadata": {},
   "outputs": [],
   "source": [
    "## Function to retrieve context and answer from model\n",
    "def query_model(pipeline, query):\n",
    "    \n",
    "    ## Retrieving the answer from model based on query\n",
    "    result = pipeline({\"question\":query})\n",
    "\n",
    "    ## Retrieving the answer for query\n",
    "    answer = result[\"answer\"]\n",
    "\n",
    "    return answer"
   ]
  },
  {
   "cell_type": "code",
   "execution_count": 14,
   "metadata": {},
   "outputs": [],
   "source": [
    "## Setting example query\n",
    "query = \"Kann ich in der Lehre unbezahlten Urlaub nehmen?\""
   ]
  },
  {
   "cell_type": "code",
   "execution_count": 15,
   "metadata": {},
   "outputs": [
    {
     "data": {
      "text/plain": [
       "' Grundsätzlich ist in einer Lehre ein unbezahlter Urlaub nicht vorgesehen. Sie können aber mit dem Lehrbetrieb vereinbaren, dass Sie das Lehrverhältnis nach bestandener Lehrabschlussprüfung auflösen.'"
      ]
     },
     "execution_count": 15,
     "metadata": {},
     "output_type": "execute_result"
    }
   ],
   "source": [
    "## Prompting our model based on example query\n",
    "query_model(qa, query)"
   ]
  },
  {
   "cell_type": "code",
   "execution_count": 16,
   "metadata": {},
   "outputs": [
    {
     "data": {
      "text/plain": [
       "{'chat_history': [HumanMessage(content='Kann ich in der Lehre unbezahlten Urlaub nehmen?', additional_kwargs={}, example=False),\n",
       "  AIMessage(content=' Grundsätzlich ist in einer Lehre ein unbezahlter Urlaub nicht vorgesehen. Sie können aber mit dem Lehrbetrieb vereinbaren, dass Sie das Lehrverhältnis nach bestandener Lehrabschlussprüfung auflösen.', additional_kwargs={}, example=False)]}"
      ]
     },
     "execution_count": 16,
     "metadata": {},
     "output_type": "execute_result"
    }
   ],
   "source": [
    "## Retrieving the chat history\n",
    "memory.load_memory_variables({})"
   ]
  },
  {
   "attachments": {},
   "cell_type": "markdown",
   "metadata": {},
   "source": [
    "## 4.0 Model Evaluation (on test data)"
   ]
  },
  {
   "cell_type": "code",
   "execution_count": 17,
   "metadata": {},
   "outputs": [],
   "source": [
    "## Retrieving test data\n",
    "test = pd.read_csv(TEST_LOAD_PATH)"
   ]
  },
  {
   "cell_type": "code",
   "execution_count": 18,
   "metadata": {},
   "outputs": [],
   "source": [
    "## Name of model currently to be evaluated\n",
    "model_name = \"gpt-3.5-davinci\""
   ]
  },
  {
   "cell_type": "code",
   "execution_count": 19,
   "metadata": {},
   "outputs": [],
   "source": [
    "## Collecting context & answers based on test data\n",
    "\n",
    "answers = []\n",
    "\n",
    "for row in test.itertuples():\n",
    "    \n",
    "    ## Retrieving question from test\n",
    "    question = str(row.Frage)\n",
    "    \n",
    "    ## Resetting memory for every loop\n",
    "    memory = ConversationBufferMemory(memory_key=\"chat_history\", return_messages=True)\n",
    "    qa = ConversationalRetrievalChain.from_llm(OpenAI(temperature=0), vs.as_retriever(), memory=memory)\n",
    "    \n",
    "    ## Generating context and answer based on pipeline\n",
    "    answer = query_model(qa, question)\n",
    "    \n",
    "    ## Appending answer to the list\n",
    "    answers.append(answer)\n",
    "\n",
    "## Adding answers to list \n",
    "evaluation = copy.deepcopy(test)\n",
    "evaluation[\"ModelAntwort\"] = answers"
   ]
  },
  {
   "cell_type": "code",
   "execution_count": 20,
   "metadata": {},
   "outputs": [],
   "source": [
    "## Saving the testset results\n",
    "evaluation.to_csv(os.path.join(TEST_SAVE_PATH, f'{model_name}_evaluation.csv'), index=False)"
   ]
  }
 ],
 "metadata": {
  "kernelspec": {
   "display_name": "torch-gpu",
   "language": "python",
   "name": "python3"
  },
  "language_info": {
   "codemirror_mode": {
    "name": "ipython",
    "version": 3
   },
   "file_extension": ".py",
   "mimetype": "text/x-python",
   "name": "python",
   "nbconvert_exporter": "python",
   "pygments_lexer": "ipython3",
   "version": "3.10.11"
  },
  "orig_nbformat": 4
 },
 "nbformat": 4,
 "nbformat_minor": 2
}
